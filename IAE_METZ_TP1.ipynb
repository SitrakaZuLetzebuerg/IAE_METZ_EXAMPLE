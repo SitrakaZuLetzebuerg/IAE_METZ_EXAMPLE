{
  "nbformat": 4,
  "nbformat_minor": 0,
  "metadata": {
    "colab": {
      "provenance": [],
      "collapsed_sections": [
        "vkyKzR1r61hy",
        "9oh_cJ5UPNBJ"
      ],
      "authorship_tag": "ABX9TyNpziIw8Eet6UMxVZKMAvBF",
      "include_colab_link": true
    },
    "kernelspec": {
      "name": "python3",
      "display_name": "Python 3"
    },
    "language_info": {
      "name": "python"
    }
  },
  "cells": [
    {
      "cell_type": "markdown",
      "metadata": {
        "id": "view-in-github",
        "colab_type": "text"
      },
      "source": [
        "<a href=\"https://colab.research.google.com/github/SitrakaZuLetzebuerg/IAE_METZ_EXAMPLE/blob/main/IAE_METZ_TP1.ipynb\" target=\"_parent\"><img src=\"https://colab.research.google.com/assets/colab-badge.svg\" alt=\"Open In Colab\"/></a>"
      ]
    },
    {
      "cell_type": "code",
      "execution_count": 1,
      "metadata": {
        "colab": {
          "base_uri": "https://localhost:8080/"
        },
        "id": "XG1yBezsrsQ3",
        "outputId": "906b9d13-1b9b-4511-8685-dfe1e5fe2f70"
      },
      "outputs": [
        {
          "output_type": "stream",
          "name": "stdout",
          "text": [
            "Hello World! IAE METZ Data 4 Auditors\n"
          ]
        }
      ],
      "source": [
        "# Introduction à Python\n",
        "print('Hello World! IAE METZ Data 4 Auditors')"
      ]
    },
    {
      "cell_type": "markdown",
      "source": [
        "# Simple Examples\n",
        "Nous allons voir les bases de Python ensemble"
      ],
      "metadata": {
        "id": "RoXnbvchtHNz"
      }
    },
    {
      "cell_type": "code",
      "source": [
        "# On va définir des variables\n",
        "prenom ='Matt' # est du texte c'est donc un STRING\n",
        "salaire_de_stage= 1711 # INTEGER c'est un ENTIER NATUREL\n",
        "salaire_net = 1680.95 # FLOAT = chiffre à Virgule"
      ],
      "metadata": {
        "id": "RKSFJR1ytK2d"
      },
      "execution_count": null,
      "outputs": []
    },
    {
      "cell_type": "code",
      "source": [
        "print(f\"Je m'appelle {prenom} et je gagnerai {salaire_de_stage} euros\")"
      ],
      "metadata": {
        "colab": {
          "base_uri": "https://localhost:8080/"
        },
        "id": "kyjpBQWrvrGf",
        "outputId": "633ba4eb-c281-4156-cd1b-33157a9aff99"
      },
      "execution_count": null,
      "outputs": [
        {
          "output_type": "stream",
          "name": "stdout",
          "text": [
            "Je m'appelle Rafaela et je gagnerai 1711 euros\n"
          ]
        }
      ]
    },
    {
      "cell_type": "code",
      "source": [
        "# ARITHMETIC +++\n",
        "debit1 = 157000\n",
        "debit2 = 1711\n",
        "credit = 157000"
      ],
      "metadata": {
        "id": "KrwawYjVwiAi"
      },
      "execution_count": null,
      "outputs": []
    },
    {
      "cell_type": "code",
      "source": [
        "a= debit1\n",
        "b= debit2"
      ],
      "metadata": {
        "id": "7F2w6uXixO0-"
      },
      "execution_count": null,
      "outputs": []
    },
    {
      "cell_type": "code",
      "source": [
        "debit1, debit2\n",
        "print(f\"SUM : {debit1+debit2}, DELTA : {a-b}, Produit: {a*b}, Division: {a/b}\")"
      ],
      "metadata": {
        "colab": {
          "base_uri": "https://localhost:8080/"
        },
        "id": "hkcwU1hRxXpg",
        "outputId": "c29282a1-9bdb-4098-a219-146f2230ac5d"
      },
      "execution_count": null,
      "outputs": [
        {
          "output_type": "stream",
          "name": "stdout",
          "text": [
            "SUM : 158711, DELTA : 155289, Produit: 268627000, Division91.75920514319111\n"
          ]
        }
      ]
    },
    {
      "cell_type": "code",
      "source": [
        "print(f\"Diviion Integer: {a//b}\")"
      ],
      "metadata": {
        "colab": {
          "base_uri": "https://localhost:8080/"
        },
        "id": "x-TXn88px_Kv",
        "outputId": "5a3a5c00-82f4-4abd-e399-49542ce280bc"
      },
      "execution_count": null,
      "outputs": [
        {
          "output_type": "stream",
          "name": "stdout",
          "text": [
            "Diviion Integer: 91\n"
          ]
        }
      ]
    },
    {
      "cell_type": "code",
      "source": [
        "# LIST (et LISTE en français)\n",
        "banks=[\"BDL\", \"BGL\", \"BNP\", \"BIL\"]\n",
        "banks[2]"
      ],
      "metadata": {
        "colab": {
          "base_uri": "https://localhost:8080/",
          "height": 35
        },
        "id": "7P42UzYUyNyc",
        "outputId": "a2f665c1-cb6d-4022-9eac-bd64e6b18576"
      },
      "execution_count": null,
      "outputs": [
        {
          "output_type": "execute_result",
          "data": {
            "text/plain": [
              "'BNP'"
            ],
            "application/vnd.google.colaboratory.intrinsic+json": {
              "type": "string"
            }
          },
          "metadata": {},
          "execution_count": 25
        }
      ]
    },
    {
      "cell_type": "code",
      "source": [
        "# DICTIONNAIRE\n",
        "# Non-ordonné et PAIRES-CLE\n",
        "valorisation= {\"nom\": \"Nike\", \"actif\": 37 , \"passif\": 34}"
      ],
      "metadata": {
        "id": "jF4W2XkKy6Bt"
      },
      "execution_count": null,
      "outputs": []
    },
    {
      "cell_type": "code",
      "source": [
        "print(f\"La valorisation de {valorisation['nom']} est avec un actif \")"
      ],
      "metadata": {
        "colab": {
          "base_uri": "https://localhost:8080/"
        },
        "id": "vYQobszw0ALt",
        "outputId": "1df575d0-0d1c-4251-d807-b2d9438c3298"
      },
      "execution_count": null,
      "outputs": [
        {
          "output_type": "stream",
          "name": "stdout",
          "text": [
            "La valorisation de Nike\n"
          ]
        }
      ]
    },
    {
      "cell_type": "markdown",
      "source": [
        "# Exemples pour les auditeurs\n",
        "\n",
        "Etude de cas pour l'audit, de ma société."
      ],
      "metadata": {
        "id": "vkyKzR1r61hy"
      }
    },
    {
      "cell_type": "code",
      "source": [
        "# Cellule des variables\n",
        "revenus = 100000\n",
        "depenses = 75000\n",
        "taux_imposition_francais= 0.27\n",
        "taux_imposition_luxembourgeois= 0.17\n",
        "taux_impostion_irelande = 0.125"
      ],
      "metadata": {
        "id": "7yNCFMul0ae9"
      },
      "execution_count": null,
      "outputs": []
    },
    {
      "cell_type": "code",
      "source": [
        "# Cellule des calculs\n",
        "benefice = revenus-depenses\n",
        "impot_en_france = benefice * taux_imposition_francais\n",
        "impot_au_lux =taux_imposition_luxembourgeois*benefice\n",
        "impot_en_ire =taux_impostion_irelande*benefice\n",
        "benefice_net_fr=benefice-impot_en_france"
      ],
      "metadata": {
        "id": "A4P5t1oT7f_Z"
      },
      "execution_count": null,
      "outputs": []
    },
    {
      "cell_type": "code",
      "source": [
        "#Cellule des checks/prints : calcul en direct\n",
        "print(\"Impot à payer en France\", taux_imposition_francais * benefice , \"euros\")"
      ],
      "metadata": {
        "colab": {
          "base_uri": "https://localhost:8080/"
        },
        "id": "l-iKiKAvMajz",
        "outputId": "7213358e-d6f7-4667-813c-ca8cc0c6d2d9"
      },
      "execution_count": null,
      "outputs": [
        {
          "output_type": "stream",
          "name": "stdout",
          "text": [
            "Impot à payer en France 6750.0 euros\n"
          ]
        }
      ]
    },
    {
      "cell_type": "code",
      "source": [
        "#Cellule des checks/prints : calcul préparé en amont\n",
        "print(\"Impot à payer en France\", impot_en_france, \"euros\")"
      ],
      "metadata": {
        "colab": {
          "base_uri": "https://localhost:8080/"
        },
        "id": "UBJ_QGMgMhYC",
        "outputId": "3065894a-be4e-4f19-9e99-12442e74d8cc"
      },
      "execution_count": null,
      "outputs": [
        {
          "output_type": "stream",
          "name": "stdout",
          "text": [
            "Impot à payer en France 6750.0 euros\n"
          ]
        }
      ]
    },
    {
      "cell_type": "code",
      "source": [
        "# comparaison entre irelande , luxem\n",
        "print(\"On compare au Luxembourg\", taux_imposition_luxembourgeois*benefice, \"euros\", \"vs en irelande\", taux_impostion_irelande*benefice,'euros')"
      ],
      "metadata": {
        "colab": {
          "base_uri": "https://localhost:8080/"
        },
        "id": "zAFi2gInM3jC",
        "outputId": "3c23c834-f462-44b9-8865-efe019d398d8"
      },
      "execution_count": null,
      "outputs": [
        {
          "output_type": "stream",
          "name": "stdout",
          "text": [
            "On compare au Luxembourg 4250.0 euros vs en irelande 3125.0 euros\n"
          ]
        }
      ]
    },
    {
      "cell_type": "code",
      "source": [
        "impot_en_france - impot_au_lux"
      ],
      "metadata": {
        "colab": {
          "base_uri": "https://localhost:8080/"
        },
        "id": "D3SS2ly-OUCg",
        "outputId": "517c75ab-3b5f-4c32-808c-50dfa825686a"
      },
      "execution_count": null,
      "outputs": [
        {
          "output_type": "execute_result",
          "data": {
            "text/plain": [
              "2500.0"
            ]
          },
          "metadata": {},
          "execution_count": 6
        }
      ]
    },
    {
      "cell_type": "markdown",
      "source": [
        "# Structures de Contrôle"
      ],
      "metadata": {
        "id": "9oh_cJ5UPNBJ"
      }
    },
    {
      "cell_type": "code",
      "source": [
        "# CONDITIONS (if, elif, else)\n",
        "if benefice_net_fr >0:\n",
        "  print(\"L'entreprise réalise un bénéfice net. Un bénéf de\", benefice_net_fr, \"euros\")\n",
        "elif benefice_net_fr==0:\n",
        "  print(\"L'entreprise est à l'équilibe\")\n",
        "else:\n",
        "  print(\"L'entreprise réalise une perte nette.\")"
      ],
      "metadata": {
        "colab": {
          "base_uri": "https://localhost:8080/"
        },
        "id": "dMuFzQLzOdp-",
        "outputId": "3b553c5f-655e-48c6-ee8b-f0be7d076efe"
      },
      "execution_count": null,
      "outputs": [
        {
          "output_type": "stream",
          "name": "stdout",
          "text": [
            "L'entreprise réalise un bénéfice net. Un bénéf de 18250.0 euros\n"
          ]
        }
      ]
    },
    {
      "cell_type": "code",
      "source": [
        "# Utilisation du travail des autres"
      ],
      "metadata": {
        "id": "-OToa3KXRWVH"
      },
      "execution_count": null,
      "outputs": []
    },
    {
      "cell_type": "markdown",
      "source": [
        "# IMPORTATION des BIBLIOTHEQUES\n",
        "\n",
        "\n",
        "Les packages se différencient en 2 grandes catégories .\n",
        "\n",
        "1) Ceux \"outils\" :  contenant des fonctions\n",
        "\n",
        "\n",
        "2) Ceux \"de données\": contentant des données / valeurs"
      ],
      "metadata": {
        "id": "j3M53EBFcGJb"
      }
    },
    {
      "cell_type": "code",
      "source": [
        "# Le package d'outils le plus répendu en python est PANDAS ( il y a aussi POLARS)\n",
        "import pandas as pd"
      ],
      "metadata": {
        "id": "A1x8xv-hcJxM"
      },
      "execution_count": 2,
      "outputs": []
    },
    {
      "cell_type": "code",
      "source": [
        "# Le pacakge \"données\" le plus répendu en Python x FINANCE est .... YAHOO! Finance\n",
        "import yfinance as yf"
      ],
      "metadata": {
        "id": "CYNqcl4ec_Gc"
      },
      "execution_count": 3,
      "outputs": []
    },
    {
      "cell_type": "code",
      "source": [
        "# BLOCK : IMPORTATION DES PACKAGES\n",
        "import yfinance  as yf\n",
        "import pandas as pd\n",
        "import matplotlib.pyplot as plt\n",
        "# dans les packages \"outils\"  vous pouvez SOUS SELECTIONNER LE CHAPITRE"
      ],
      "metadata": {
        "id": "1ElSMdHzd1Q2"
      },
      "execution_count": 20,
      "outputs": []
    },
    {
      "cell_type": "code",
      "source": [
        "# BLOCK : VARIABLES\n",
        "# pour une comparaison d'indices selon les pays\n",
        "france_symbol = 'EWQ' # iShares MSCI France ETF\n",
        "ireland_symbol = 'EWK' # iShares MSCI Ireland ETF\n",
        "luxembourg_symbol = 'SPY' # S&P 500 son ETF"
      ],
      "metadata": {
        "id": "4XivHiA0eWgb"
      },
      "execution_count": 4,
      "outputs": []
    },
    {
      "cell_type": "code",
      "source": [
        "# BLOCK : TIME FRAME\n",
        "start_date = '2010-01-01'\n",
        "end_date = '2025-01-01'"
      ],
      "metadata": {
        "id": "PQjcwkmKe0wl"
      },
      "execution_count": 5,
      "outputs": []
    },
    {
      "cell_type": "code",
      "source": [
        "# Telechargement des données historiques de YFINANCE pour chaque pays\n",
        "france_data = yf.download(france_symbol, start=start_date, end=end_date)\n",
        "irelande_data = yf.download(ireland_symbol, start=start_date, end=end_date)\n",
        "lux_data = yf.download(luxembourg_symbol, start=start_date, end=end_date)"
      ],
      "metadata": {
        "colab": {
          "base_uri": "https://localhost:8080/"
        },
        "id": "dcSeBwOufQB9",
        "outputId": "aeb88414-b394-4f84-998b-defa3d265ec8"
      },
      "execution_count": 6,
      "outputs": [
        {
          "output_type": "stream",
          "name": "stdout",
          "text": [
            "YF.download() has changed argument auto_adjust default to True\n"
          ]
        },
        {
          "output_type": "stream",
          "name": "stderr",
          "text": [
            "[*********************100%***********************]  1 of 1 completed\n",
            "[*********************100%***********************]  1 of 1 completed\n",
            "[*********************100%***********************]  1 of 1 completed\n"
          ]
        }
      ]
    },
    {
      "cell_type": "code",
      "source": [
        "print(france_data)"
      ],
      "metadata": {
        "colab": {
          "base_uri": "https://localhost:8080/"
        },
        "id": "yOPyCOTTgu_7",
        "outputId": "2e5c2123-f0ff-4ec5-c37d-8bd2b915f847"
      },
      "execution_count": 7,
      "outputs": [
        {
          "output_type": "stream",
          "name": "stdout",
          "text": [
            "Price           Close       High        Low       Open  Volume\n",
            "Ticker            EWQ        EWQ        EWQ        EWQ     EWQ\n",
            "Date                                                          \n",
            "2010-01-04  17.787550  17.827417  17.641368  17.641368   97400\n",
            "2010-01-05  17.741039  17.867285  17.674593  17.847353  164100\n",
            "2010-01-06  17.834059  17.840703  17.687878  17.734390  117300\n",
            "2010-01-07  17.754324  17.787548  17.634723  17.648011   87500\n",
            "2010-01-08  18.000172  18.006816  17.760966  17.787545  155400\n",
            "...               ...        ...        ...        ...     ...\n",
            "2024-12-24  35.970001  36.009998  35.619999  35.730000  187100\n",
            "2024-12-26  36.119999  36.200001  35.939999  35.959999  216600\n",
            "2024-12-27  36.060001  36.139999  35.900002  35.959999  758900\n",
            "2024-12-30  35.810001  35.910000  35.650002  35.900002  361400\n",
            "2024-12-31  35.880001  36.169998  35.799999  36.169998  401800\n",
            "\n",
            "[3774 rows x 5 columns]\n"
          ]
        }
      ]
    },
    {
      "cell_type": "code",
      "source": [
        "# BLOCK : ANALYSE DES DATAFRAMES (EDA)\n",
        "#Il y a des jours fériés donc il y a des valeurs nulles\n",
        "#france_data.isnull().sum()\n",
        "# DATA_FRAME . FUNCTION_NAME()"
      ],
      "metadata": {
        "id": "A57u7Rn9iW9E"
      },
      "execution_count": 11,
      "outputs": []
    },
    {
      "cell_type": "code",
      "source": [
        "# Calcul des rdt quotidiens pour chacun des fonds\n",
        "lux_return = lux_data.pct_change().dropna()\n",
        "irelande_return = irelande_data.pct_change().dropna()\n",
        "france_return = france_data.pct_change().dropna()"
      ],
      "metadata": {
        "id": "e9OwJ9ewjFUI"
      },
      "execution_count": 12,
      "outputs": []
    },
    {
      "cell_type": "code",
      "source": [],
      "metadata": {
        "id": "H-y3XnNNdnrV"
      },
      "execution_count": 13,
      "outputs": []
    },
    {
      "cell_type": "code",
      "source": [
        "# Calcul de la rentabilité cumulée des fonds sur une période\n",
        "lux_cumulative_return = (1 + lux_return).cumprod() - 1\n",
        "ireland_cumulative_return = (1 + irelande_return).cumprod()  - 1\n",
        "france_cumulative_return = (1 + france_return).cumprod() -1"
      ],
      "metadata": {
        "id": "0lmzcs0RkZsH"
      },
      "execution_count": 14,
      "outputs": []
    },
    {
      "cell_type": "code",
      "source": [
        "# BLOCK : GRAPHIQUES\n",
        "# présentation à des investisseurs des rdt vua un DATAFRAME\n",
        "print(lux_data.head())\n",
        "print(irelande_data.head())\n",
        "print(france_data.head())"
      ],
      "metadata": {
        "colab": {
          "base_uri": "https://localhost:8080/"
        },
        "id": "-g0EpfW6mS2w",
        "outputId": "e9821b61-9651-4610-9341-bcccd6389e2e"
      },
      "execution_count": 15,
      "outputs": [
        {
          "output_type": "stream",
          "name": "stdout",
          "text": [
            "Price           Close       High        Low       Open     Volume\n",
            "Ticker            SPY        SPY        SPY        SPY        SPY\n",
            "Date                                                             \n",
            "2010-01-04  86.026451  86.071994  84.644927  85.297736  118944600\n",
            "2010-01-05  86.254166  86.292122  85.662085  85.973310  111579900\n",
            "2010-01-06  86.314903  86.527445  86.102362  86.170676  116074400\n",
            "2010-01-07  86.679260  86.785531  85.912589  86.155494  131091100\n",
            "2010-01-08  86.967720  87.005676  86.276961  86.451546  126402800\n",
            "Price          Close      High       Low      Open  Volume\n",
            "Ticker           EWK       EWK       EWK       EWK     EWK\n",
            "Date                                                      \n",
            "2010-01-04  8.644100  8.729103  8.572175  8.572175  329400\n",
            "2010-01-05  8.748718  8.781412  8.683331  8.729102  451600\n",
            "2010-01-06  8.801030  8.801030  8.689873  8.689873   71800\n",
            "2010-01-07  8.742178  8.761794  8.696408  8.742178   46000\n",
            "2010-01-08  8.781411  8.801027  8.696409  8.696409  391700\n",
            "Price           Close       High        Low       Open  Volume\n",
            "Ticker            EWQ        EWQ        EWQ        EWQ     EWQ\n",
            "Date                                                          \n",
            "2010-01-04  17.787550  17.827417  17.641368  17.641368   97400\n",
            "2010-01-05  17.741039  17.867285  17.674593  17.847353  164100\n",
            "2010-01-06  17.834059  17.840703  17.687878  17.734390  117300\n",
            "2010-01-07  17.754324  17.787548  17.634723  17.648011   87500\n",
            "2010-01-08  18.000172  18.006816  17.760966  17.787545  155400\n"
          ]
        }
      ]
    },
    {
      "cell_type": "code",
      "source": [
        "lux_data.plot()"
      ],
      "metadata": {
        "colab": {
          "base_uri": "https://localhost:8080/",
          "height": 455
        },
        "id": "GAOL401vniFH",
        "outputId": "326e508f-b003-4638-e8bf-8d9da9cfb9e1"
      },
      "execution_count": 60,
      "outputs": [
        {
          "output_type": "execute_result",
          "data": {
            "text/plain": [
              "<Axes: xlabel='Date'>"
            ]
          },
          "metadata": {},
          "execution_count": 60
        },
        {
          "output_type": "display_data",
          "data": {
            "text/plain": [
              "<Figure size 640x480 with 1 Axes>"
            ],
            "image/png": "[encoded data removed]"
          },
          "metadata": {}
        }
      ]
    },
    {
      "cell_type": "markdown",
      "source": [
        "# Apprentissage de plot\n"
      ],
      "metadata": {
        "id": "-R3tt915vufD"
      }
    },
    {
      "cell_type": "code",
      "source": [
        "# Import libraries\n",
        "import yfinance as yf\n",
        "import pandas as pd\n",
        "import numpy as np\n",
        "import matplotlib.pyplot as plt"
      ],
      "metadata": {
        "id": "0l7gG2j-v4Er"
      },
      "execution_count": 61,
      "outputs": []
    },
    {
      "cell_type": "code",
      "source": [
        "# Download stock data for a specific stock (e.g., Apple) from Yahoo Finance\n",
        "stock = yf.download('AAPL', start='2020-01-01', end='2025-01-01')\n",
        "stock.head() #vérifier la gueule des données."
      ],
      "metadata": {
        "colab": {
          "base_uri": "https://localhost:8080/"
        },
        "id": "FD6z3m1Pv7tg",
        "outputId": "e475ad4a-5eaf-4cb8-a1c8-5d55cd797555"
      },
      "execution_count": 63,
      "outputs": [
        {
          "output_type": "stream",
          "name": "stderr",
          "text": [
            "\r[*********************100%***********************]  1 of 1 completed\n"
          ]
        }
      ]
    },
    {
      "cell_type": "code",
      "source": [
        "# Plot it\n",
        "plt.figure(figsize=(10,6))\n",
        "plt.plot(stock['Close'], label='AAPL Closing Price')\n",
        "plt.title('Apple Stock Price Over Time')\n",
        "plt.xlabel('Date')\n",
        "plt.ylabel('Price (USD)')\n",
        "plt.legend()\n",
        "plt.show()"
      ],
      "metadata": {
        "colab": {
          "base_uri": "https://localhost:8080/",
          "height": 564
        },
        "id": "vzz_RLq-wOMt",
        "outputId": "40e9a392-288f-4362-f557-25c78791f0de"
      },
      "execution_count": 67,
      "outputs": [
        {
          "output_type": "display_data",
          "data": {
            "text/plain": [
              "<Figure size 1000x600 with 1 Axes>"
            ],
            "image/png": "[encoded data removed]"
          },
          "metadata": {}
        }
      ]
    },
    {
      "cell_type": "code",
      "source": [
        "\n",
        "\n",
        "\n",
        "\n",
        "\n",
        "\n",
        "\n"
      ],
      "metadata": {
        "id": "X78NObrTpmDM"
      },
      "execution_count": 54,
      "outputs": []
    }
  ]
}